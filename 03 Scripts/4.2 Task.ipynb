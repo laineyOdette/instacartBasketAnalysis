{
 "cells": [
  {
   "cell_type": "markdown",
   "id": "32f27e0f",
   "metadata": {},
   "source": [
    "# 01. Import Libraries"
   ]
  },
  {
   "cell_type": "code",
   "execution_count": 1,
   "id": "0abb5b5e",
   "metadata": {},
   "outputs": [],
   "source": [
    "# Import libraries\n",
    "import pandas as pd\n",
    "import numpy as np\n",
    "import os"
   ]
  },
  {
   "cell_type": "markdown",
   "id": "45967a0e",
   "metadata": {},
   "source": [
    "# 02. Python Data Types"
   ]
  },
  {
   "cell_type": "code",
   "execution_count": 2,
   "id": "29df3d19",
   "metadata": {},
   "outputs": [],
   "source": [
    "a = 150"
   ]
  },
  {
   "cell_type": "code",
   "execution_count": 3,
   "id": "c0fb9614",
   "metadata": {},
   "outputs": [],
   "source": [
    "b = 50"
   ]
  },
  {
   "cell_type": "code",
   "execution_count": 4,
   "id": "0164fd7d",
   "metadata": {},
   "outputs": [],
   "source": [
    "c = 25"
   ]
  },
  {
   "cell_type": "code",
   "execution_count": 17,
   "id": "16cc53ed",
   "metadata": {},
   "outputs": [],
   "source": [
    "# result of 100 - take 1\n",
    "\n",
    "a - b"
   ]
  },
  {
   "cell_type": "code",
   "execution_count": 6,
   "id": "e9a95c68",
   "metadata": {},
   "outputs": [
    {
     "data": {
      "text/plain": [
       "100"
      ]
     },
     "execution_count": 6,
     "metadata": {},
     "output_type": "execute_result"
    }
   ],
   "source": [
    "# result of 100 - take 2\n",
    "\n",
    "b + b"
   ]
  },
  {
   "cell_type": "code",
   "execution_count": 7,
   "id": "66f1deaa",
   "metadata": {},
   "outputs": [
    {
     "data": {
      "text/plain": [
       "100"
      ]
     },
     "execution_count": 7,
     "metadata": {},
     "output_type": "execute_result"
    }
   ],
   "source": [
    "\n",
    "# result of 100 - take 3\n",
    "b + c + c"
   ]
  },
  {
   "cell_type": "code",
   "execution_count": 8,
   "id": "dc318ffa",
   "metadata": {},
   "outputs": [],
   "source": [
    "d = 2.5"
   ]
  },
  {
   "cell_type": "code",
   "execution_count": 9,
   "id": "f63815c3",
   "metadata": {},
   "outputs": [],
   "source": [
    "e = 43.75"
   ]
  },
  {
   "cell_type": "code",
   "execution_count": 10,
   "id": "4c9547b1",
   "metadata": {},
   "outputs": [
    {
     "data": {
      "text/plain": [
       "17.5"
      ]
     },
     "execution_count": 10,
     "metadata": {},
     "output_type": "execute_result"
    }
   ],
   "source": [
    "# divide floating point variables - take 1\n",
    "\n",
    "e / d"
   ]
  },
  {
   "cell_type": "code",
   "execution_count": 11,
   "id": "759e77c9",
   "metadata": {},
   "outputs": [
    {
     "data": {
      "text/plain": [
       "0.1"
      ]
     },
     "execution_count": 11,
     "metadata": {},
     "output_type": "execute_result"
    }
   ],
   "source": [
    "# divide floating point variables - take 2\n",
    "\n",
    "d / c"
   ]
  },
  {
   "cell_type": "code",
   "execution_count": 12,
   "id": "833b6aa0",
   "metadata": {},
   "outputs": [],
   "source": [
    "g = 'ka'"
   ]
  },
  {
   "cell_type": "code",
   "execution_count": 13,
   "id": "95fd2e82",
   "metadata": {},
   "outputs": [],
   "source": [
    "h = 'ra'"
   ]
  },
  {
   "cell_type": "code",
   "execution_count": 14,
   "id": "ffdf75c0",
   "metadata": {},
   "outputs": [],
   "source": [
    "i = 'o'"
   ]
  },
  {
   "cell_type": "code",
   "execution_count": 15,
   "id": "abd1a612",
   "metadata": {},
   "outputs": [],
   "source": [
    "j = 'ke'"
   ]
  },
  {
   "cell_type": "code",
   "execution_count": 16,
   "id": "315dc133",
   "metadata": {},
   "outputs": [
    {
     "data": {
      "text/plain": [
       "'karaoke'"
      ]
     },
     "execution_count": 16,
     "metadata": {},
     "output_type": "execute_result"
    }
   ],
   "source": [
    "# create short word\n",
    "\n",
    "g + h + i + j"
   ]
  },
  {
   "cell_type": "code",
   "execution_count": 19,
   "id": "8c5c2bd3",
   "metadata": {},
   "outputs": [],
   "source": [
    "x = 'This is my party '"
   ]
  },
  {
   "cell_type": "code",
   "execution_count": 20,
   "id": "11d19ee9",
   "metadata": {},
   "outputs": [],
   "source": [
    "y = 'and I will cry if I feel like it.'"
   ]
  },
  {
   "cell_type": "code",
   "execution_count": 21,
   "id": "7fdbe7bf",
   "metadata": {},
   "outputs": [],
   "source": [
    "z = 'and I want chocolate cake.'"
   ]
  },
  {
   "cell_type": "code",
   "execution_count": 22,
   "id": "a64b2b89",
   "metadata": {},
   "outputs": [
    {
     "data": {
      "text/plain": [
       "'This is my party and I will cry if I feel like it.'"
      ]
     },
     "execution_count": 22,
     "metadata": {},
     "output_type": "execute_result"
    }
   ],
   "source": [
    "# create short sentence = take 1\n",
    "\n",
    "x + y"
   ]
  },
  {
   "cell_type": "code",
   "execution_count": 23,
   "id": "4625dd24",
   "metadata": {},
   "outputs": [
    {
     "data": {
      "text/plain": [
       "'This is my party and I want chocolate cake.'"
      ]
     },
     "execution_count": 23,
     "metadata": {},
     "output_type": "execute_result"
    }
   ],
   "source": [
    "# create short sentence = take 2\n",
    "\n",
    "x + z"
   ]
  },
  {
   "cell_type": "markdown",
   "id": "3119e481",
   "metadata": {},
   "source": [
    "# 03. Bonus Task"
   ]
  },
  {
   "cell_type": "code",
   "execution_count": 24,
   "id": "a7d8a42b",
   "metadata": {},
   "outputs": [],
   "source": [
    "p = 'I love myself. '"
   ]
  },
  {
   "cell_type": "code",
   "execution_count": 25,
   "id": "f4fb53ec",
   "metadata": {},
   "outputs": [
    {
     "data": {
      "text/plain": [
       "'I love myself. I love myself. I love myself. I love myself. I love myself. I love myself. I love myself. I love myself. I love myself. I love myself. I love myself. I love myself. I love myself. I love myself. I love myself. I love myself. I love myself. I love myself. I love myself. I love myself. I love myself. I love myself. I love myself. I love myself. I love myself. I love myself. I love myself. I love myself. I love myself. I love myself. I love myself. I love myself. I love myself. I love myself. I love myself. I love myself. I love myself. I love myself. I love myself. I love myself. I love myself. I love myself. I love myself. I love myself. I love myself. I love myself. I love myself. I love myself. I love myself. I love myself. I love myself. I love myself. I love myself. I love myself. I love myself. I love myself. I love myself. I love myself. I love myself. I love myself. I love myself. I love myself. I love myself. I love myself. I love myself. I love myself. I love myself. I love myself. I love myself. I love myself. I love myself. I love myself. I love myself. I love myself. I love myself. I love myself. I love myself. I love myself. I love myself. I love myself. I love myself. I love myself. I love myself. I love myself. I love myself. I love myself. I love myself. I love myself. I love myself. I love myself. I love myself. I love myself. I love myself. I love myself. I love myself. I love myself. I love myself. I love myself. I love myself. I love myself. '"
      ]
     },
     "execution_count": 25,
     "metadata": {},
     "output_type": "execute_result"
    }
   ],
   "source": [
    "p * 100"
   ]
  },
  {
   "cell_type": "code",
   "execution_count": null,
   "id": "33887982",
   "metadata": {},
   "outputs": [],
   "source": []
  }
 ],
 "metadata": {
  "kernelspec": {
   "display_name": "Python 3 (ipykernel)",
   "language": "python",
   "name": "python3"
  },
  "language_info": {
   "codemirror_mode": {
    "name": "ipython",
    "version": 3
   },
   "file_extension": ".py",
   "mimetype": "text/x-python",
   "name": "python",
   "nbconvert_exporter": "python",
   "pygments_lexer": "ipython3",
   "version": "3.11.5"
  }
 },
 "nbformat": 4,
 "nbformat_minor": 5
}
